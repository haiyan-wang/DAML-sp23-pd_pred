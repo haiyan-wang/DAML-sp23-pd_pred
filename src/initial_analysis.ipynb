{
 "cells": [
  {
   "cell_type": "markdown",
   "id": "87999bf1",
   "metadata": {},
   "source": [
    "**We'll do some intial EDA here to better understand the data and problem before deciding our approach**"
   ]
  },
  {
   "cell_type": "code",
   "execution_count": null,
   "id": "4a80f5e2",
   "metadata": {},
   "outputs": [],
   "source": [
    "### Libraries\n",
    "\n",
    "import numpy as np\n",
    "import pandas as pd\n",
    "import seaborn as sns\n",
    "import matplotlib"
   ]
  }
 ],
 "metadata": {
  "kernelspec": {
   "display_name": "Python 3 (ipykernel)",
   "language": "python",
   "name": "python3"
  },
  "language_info": {
   "codemirror_mode": {
    "name": "ipython",
    "version": 3
   },
   "file_extension": ".py",
   "mimetype": "text/x-python",
   "name": "python",
   "nbconvert_exporter": "python",
   "pygments_lexer": "ipython3",
   "version": "3.9.16"
  }
 },
 "nbformat": 4,
 "nbformat_minor": 5
}
